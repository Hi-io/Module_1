{
 "cells": [
  {
   "cell_type": "markdown",
   "metadata": {},
   "source": [
    "# Práctica Clase 1 "
   ]
  },
  {
   "cell_type": "markdown",
   "metadata": {},
   "source": [
    "1) Crear una función capaz de convertir números enteros de base 10 a base 2. Debe recibir como parámetro el número a convertir<br>\n",
    "Consideraciones:<br> \n",
    "a. Tratar de resolverlo sin usar la función format(nro,\"b\")<br>\n",
    "b. El pdf \"conversion-de-decimal-a-binario.pdf\" puede servir de ayuda.\n"
   ]
  },
  {
   "cell_type": "markdown",
   "metadata": {},
   "source": [
    "Tarea 1:"
   ]
  },
  {
   "cell_type": "code",
   "execution_count": 183,
   "metadata": {},
   "outputs": [],
   "source": [
    "def convert(list):\n",
    "    s = [str(i) for i in list]\n",
    "    res = int(\"\".join(s))\n",
    "    return(res)\n",
    "\n",
    "def NumeroBinario(numero):\n",
    "    if type(numero) != int or numero<-1:\n",
    "        return None\n",
    "    lbinario=[]\n",
    "    while numero>0:\n",
    "        resto=numero%2\n",
    "        if resto==1:\n",
    "            lbinario.insert(0,resto)\n",
    "        else:\n",
    "            lbinario.insert(0,resto)\n",
    "        numero=numero//2    \n",
    "    return (convert(lbinario))\n"
   ]
  },
  {
   "cell_type": "code",
   "execution_count": 184,
   "metadata": {},
   "outputs": [
    {
     "data": {
      "text/plain": [
       "1011111"
      ]
     },
     "execution_count": 184,
     "metadata": {},
     "output_type": "execute_result"
    }
   ],
   "source": [
    "#Ejemplo:\n",
    "NumeroBinario(95)"
   ]
  },
  {
   "cell_type": "code",
   "execution_count": 228,
   "metadata": {},
   "outputs": [
    {
     "name": "stdout",
     "output_type": "stream",
     "text": [
      "0.5\n"
     ]
    }
   ],
   "source": [
    "print(943.5%1)"
   ]
  },
  {
   "cell_type": "code",
   "execution_count": 238,
   "metadata": {},
   "outputs": [],
   "source": [
    "def convert(list):\n",
    "    s = [str(i) for i in list]\n",
    "    res = str(\"\".join(s))\n",
    "    return(str(res))\n",
    "\n",
    "def NumeroBinario(numero):\n",
    "    numero=float(numero)\n",
    "    entero=numero//1\n",
    "    if numero<-1:\n",
    "        return None\n",
    "    lbinario=[]\n",
    "    entero=numero//1\n",
    "    if entero==0:\n",
    "        lbinario.append(0)\n",
    "    while entero>0:\n",
    "        resto=entero%2\n",
    "        if resto==1:\n",
    "            lbinario.insert(0,int(resto))\n",
    "        else:\n",
    "            lbinario.insert(0,int(resto))\n",
    "        entero=entero//2\n",
    "\n",
    "\n",
    "    ndecimales=15\n",
    "    fbinario=[]\n",
    "    frac=numero%1\n",
    "    while ndecimales>0:\n",
    "        frac=frac*2\n",
    "        if frac//1==0: \n",
    "            fbinario.append(0)\n",
    "        else:\n",
    "            fbinario.append(1)\n",
    "            frac=frac%1\n",
    "        ndecimales-=1\n",
    "    respuesta=(convert(lbinario)),\".\",int(convert(fbinario))\n",
    "    return float(convert(respuesta))"
   ]
  },
  {
   "cell_type": "code",
   "execution_count": 237,
   "metadata": {},
   "outputs": [
    {
     "data": {
      "text/plain": [
       "0.10101010101010101"
      ]
     },
     "execution_count": 237,
     "metadata": {},
     "output_type": "execute_result"
    }
   ],
   "source": [
    "NumeroBinario(1/6)"
   ]
  },
  {
   "cell_type": "code",
   "execution_count": null,
   "metadata": {},
   "outputs": [],
   "source": []
  },
  {
   "cell_type": "markdown",
   "metadata": {},
   "source": [
    "2) Convertir de decimal a binario las fracciones 1/2, 1/3, 1/4, 1/5, 1/6, 1/7, 1/8, 1/9. Luego analizar los resultados y observar qué particularidad se encuentra en los mismos. Se puede usar Python o una calculadora, lo importante es ver si hay algo que podemos notar..."
   ]
  },
  {
   "cell_type": "markdown",
   "metadata": {},
   "source": [
    "Salida esperada:\n",
    "* Fraccion 1 / 2 :  0.5  y En binario:  0.1\n",
    "* Fraccion 1 / 3 :  0.3333333333333333  y En binario:  0.010101010101010101010101\n",
    "* Fraccion 1 / 4 :  0.25  y En binario:  0.01\n",
    "* Fraccion 1 / 5 :  0.2  y En binario:  0.001100110011001100110011\n",
    "* Fraccion 1 / 6 :  0.16666666666666666  y En binario:  0.001010101010101010101010\n",
    "* Fraccion 1 / 7 :  0.14285714285714285  y En binario:  0.001001001001001001001001\n",
    "* Fraccion 1 / 8 :  0.125  y En binario:  0.001\n",
    "* Fraccion 1 / 9 :  0.1111111111111111  y En binario:  0.000111000111000111000111"
   ]
  }
 ],
 "metadata": {
  "kernelspec": {
   "display_name": "Python 3.9.13 64-bit",
   "language": "python",
   "name": "python3"
  },
  "language_info": {
   "codemirror_mode": {
    "name": "ipython",
    "version": 3
   },
   "file_extension": ".py",
   "mimetype": "text/x-python",
   "name": "python",
   "nbconvert_exporter": "python",
   "pygments_lexer": "ipython3",
   "version": "3.9.13"
  },
  "orig_nbformat": 4,
  "vscode": {
   "interpreter": {
    "hash": "8e284ee3255a07ad8bf76694974743c4c81cb57e7c969474d752d949b11d721e"
   }
  }
 },
 "nbformat": 4,
 "nbformat_minor": 2
}
