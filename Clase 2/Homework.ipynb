{
 "cells": [
  {
   "cell_type": "code",
   "execution_count": 19,
   "metadata": {},
   "outputs": [],
   "source": [
    "import os\n",
    "archivo = open('Emisiones_CO2.csv', 'r')"
   ]
  },
  {
   "cell_type": "code",
   "execution_count": 76,
   "metadata": {},
   "outputs": [],
   "source": [
    "dicc_emisiones = {  'cod_pais' : [],\n",
    "                    'nom_pais' : [],\n",
    "                    'region' : [],\n",
    "                    'anio' : [],\n",
    "                    'co2' : [],\n",
    "                    'co2_percapita' : []}"
   ]
  },
  {
   "cell_type": "markdown",
   "metadata": {},
   "source": [
    "# Práctica Clase 2"
   ]
  },
  {
   "cell_type": "markdown",
   "metadata": {},
   "source": [
    "1) Abrir el archivo \"Emisiones_CO2.csv\" y cargar sus datos en un diccionario."
   ]
  },
  {
   "cell_type": "code",
   "execution_count": 183,
   "metadata": {},
   "outputs": [],
   "source": [
    "import os\n",
    "with open('Emisiones_CO2.csv',\"r\") as archivo: \n",
    "    next(archivo)\n",
    "    dicc_emisiones = {  'cod_pais' : [],\n",
    "                    'nom_pais' : [],\n",
    "                    'region' : [],\n",
    "                    'anio' : [],\n",
    "                    'co2' : [],\n",
    "                    'co2_percapita' : []}\n",
    "    for i in archivo:\n",
    "        i=i.rstrip(\"\\n\")\n",
    "        colum=i.split(\"|\")\n",
    "        codigo=str(colum[0])\n",
    "        nombre=str(colum[1])\n",
    "        region=str(colum[2])\n",
    "        anio=int(colum[3])\n",
    "        co2=colum[4]\n",
    "        co2=co2.replace(\".\",\"\")\n",
    "        co2=co2.replace(\",\",\".\")\n",
    "        if co2!=\"\":\n",
    "            co2=float(co2)\n",
    "        copc=colum[5]\n",
    "        copc=copc.replace(\",\",\".\")\n",
    "        if copc != \"\":\n",
    "            copc=float(copc)\n",
    "            \n",
    "        dicc_emisiones['cod_pais'].append(codigo)\n",
    "        dicc_emisiones[\"nom_pais\"].append (nombre)\n",
    "        dicc_emisiones[\"region\"].append (region)\n",
    "        dicc_emisiones[\"anio\"].append (anio)\n",
    "        dicc_emisiones[\"co2\"].append (co2)\n",
    "        dicc_emisiones[\"co2_percapita\"].append (copc)"
   ]
  },
  {
   "cell_type": "markdown",
   "metadata": {},
   "source": [
    "2) a) ¿Cuántas variables hay? <br>\n",
    "b) ¿Qué tipos de datos usar para cada una? <br>\n",
    "c) ¿Qué tipo de variables son? <br>\n",
    "d) ¿Hay valores faltantes? <br>\n",
    "e) ¿Cuál es el total de emisiones de CO2 para 'América Latina y Caribe' en el año 2010?"
   ]
  },
  {
   "cell_type": "code",
   "execution_count": 184,
   "metadata": {},
   "outputs": [
    {
     "name": "stdout",
     "output_type": "stream",
     "text": [
      "-Cantidad de variables:\n",
      "6\n",
      "\n",
      "-Qué tipo de datos usar para cada una?\n",
      "Para país, código de país y región sería un string por ser cualitativo categorico \n",
      "Para anio pondría int por ser cualitativo ordinal \n",
      "Y finalmente para el CO2 y CO2 per capita serían floats, por ser cuantitativos contínuos.\n",
      "\n",
      "-Tipos de variables:\n",
      "cod_pais  es tiene variables del tipo:  <class 'str'>\n",
      "nom_pais  es tiene variables del tipo:  <class 'str'>\n",
      "region  es tiene variables del tipo:  <class 'str'>\n",
      "anio  es tiene variables del tipo:  <class 'int'>\n",
      "co2  es tiene variables del tipo:  <class 'float'>\n",
      "co2_percapita  es tiene variables del tipo:  <class 'float'>\n",
      "\n",
      "-Comprobar si hay valores faltantes:\n",
      "Si, faltan 4193 valores\n",
      "\n",
      "-El total de emisiones de CO2 para America Latina y el Caribe sería:\n",
      "1691634 kt\n"
     ]
    }
   ],
   "source": [
    "print(\"-Cantidad de variables:\")\n",
    "print(len(dicc_emisiones))\n",
    "print(\"\\n-Qué tipo de datos usar para cada una?\\nPara país, código de país y región sería un string por ser cualitativo categorico\",\n",
    "    \"\\nPara anio pondría int por ser cualitativo ordinal\",\n",
    "    \"\\nY finalmente para el CO2 y CO2 per capita serían floats, por ser cuantitativos contínuos.\")\n",
    "print(\"\\n-Tipos de variables:\")\n",
    "for e,i in dicc_emisiones.items():\n",
    "    print(e,\" es tiene variables del tipo: \",type(i[300]))\n",
    "print(\"\\n-Comprobar si hay valores faltantes:\")\n",
    "valoresf=False\n",
    "nvaloresf=0\n",
    "for i in dicc_emisiones.values():\n",
    "    for e in i:\n",
    "        if e=='':\n",
    "            valoresf=True\n",
    "            nvaloresf+=1\n",
    "if valoresf==True:\n",
    "    print(\"Si, faltan\",nvaloresf,\"valores\")\n",
    "else:\n",
    "    print(\"No, están completos.\")\n",
    "print(\"\\n-El total de emisiones de CO2 para America Latina y el Caribe sería:\")\n",
    "nemis=0\n",
    "for i,e in enumerate(dicc_emisiones[\"region\"]):\n",
    "    if e==\"América Latina y Caribe\" and dicc_emisiones[\"co2\"][i]!= \"\" and dicc_emisiones[\"anio\"][i]==2010:\n",
    "        #print(\"index:\",i,\" año\",dicc_emisiones[\"anio\"][i],\" co2\",dicc_emisiones[\"co2\"][i],\"kt\")\n",
    "        nemis+=dicc_emisiones[\"co2\"][i]\n",
    "print(int(nemis),\"kt\")"
   ]
  },
  {
   "cell_type": "code",
   "execution_count": 3,
   "metadata": {},
   "outputs": [
    {
     "name": "stdout",
     "output_type": "stream",
     "text": [
      "-Cantidad de variables:\n",
      "6\n",
      "\n",
      "-Qué tipo de datos usar para cada una?\n",
      "Para país, código de país y región sería un string por ser cualitativo categorico \n",
      "Para anio pondría int por ser cualitativo ordinal \n",
      "Y finalmente para el CO2 y CO2 per capita serían floats, por ser cuantitativos contínuos.\n",
      "\n",
      "-Tipos de variables:\n",
      "cod_pais  es tiene variables del tipo:  <class 'str'>\n",
      "nom_pais  es tiene variables del tipo:  <class 'str'>\n",
      "region  es tiene variables del tipo:  <class 'str'>\n",
      "anio  es tiene variables del tipo:  <class 'int'>\n",
      "co2  es tiene variables del tipo:  <class 'float'>\n",
      "co2_percapita  es tiene variables del tipo:  <class 'float'>\n",
      "\n",
      "-Comprobar si hay valores faltantes:\n",
      "Si, faltan 4193 valores\n",
      "\n",
      "-El total de emisiones de CO2 para America Latina y el Caribe sería:\n",
      "1691634 kt\n"
     ]
    }
   ],
   "source": [
    "import os\n",
    "with open('Emisiones_CO2.csv',\"r\") as archivo: \n",
    "    next(archivo)\n",
    "    dicc_emisiones = {  'cod_pais' : [],\n",
    "                    'nom_pais' : [],\n",
    "                    'region' : [],\n",
    "                    'anio' : [],\n",
    "                    'co2' : [],\n",
    "                    'co2_percapita' : []}\n",
    "    for i in archivo:\n",
    "        i=i.rstrip(\"\\n\")\n",
    "        colum=i.split(\"|\")\n",
    "        codigo=str(colum[0])\n",
    "        nombre=str(colum[1])\n",
    "        region=str(colum[2])\n",
    "        anio=int(colum[3])\n",
    "        co2=colum[4]\n",
    "        co2=co2.replace(\".\",\"\")\n",
    "        co2=co2.replace(\",\",\".\")\n",
    "        if co2!=\"\":\n",
    "            co2=float(co2)\n",
    "        copc=colum[5]\n",
    "        copc=copc.replace(\",\",\".\")\n",
    "        if copc != \"\":\n",
    "            copc=float(copc)\n",
    "            \n",
    "        dicc_emisiones['cod_pais'].append(codigo)\n",
    "        dicc_emisiones[\"nom_pais\"].append (nombre)\n",
    "        dicc_emisiones[\"region\"].append (region)\n",
    "        dicc_emisiones[\"anio\"].append (anio)\n",
    "        dicc_emisiones[\"co2\"].append (co2)\n",
    "        dicc_emisiones[\"co2_percapita\"].append (copc)\n",
    "\n",
    "# A partir de aquí empieza la resolucion de problemas.\n",
    "\n",
    "print(\"-Cantidad de variables:\")\n",
    "print(len(dicc_emisiones))\n",
    "print(\"\\n-Qué tipo de datos usar para cada una?\\nPara país, código de país y región sería un string por ser cualitativo categorico\",\n",
    "    \"\\nPara anio pondría int por ser cualitativo ordinal\",\n",
    "    \"\\nY finalmente para el CO2 y CO2 per capita serían floats, por ser cuantitativos contínuos.\")\n",
    "print(\"\\n-Tipos de variables:\")\n",
    "for e,i in dicc_emisiones.items():\n",
    "    print(e,\" es tiene variables del tipo: \",type(i[300]))\n",
    "print(\"\\n-Comprobar si hay valores faltantes:\")\n",
    "valoresf=False\n",
    "nvaloresf=0\n",
    "for i in dicc_emisiones.values():\n",
    "    for e in i:\n",
    "        if e=='':\n",
    "            valoresf=True\n",
    "            nvaloresf+=1\n",
    "if valoresf==True:\n",
    "    print(\"Si, faltan\",nvaloresf,\"valores\")\n",
    "else:\n",
    "    print(\"No, están completos.\")\n",
    "print(\"\\n-El total de emisiones de CO2 para America Latina y el Caribe sería:\")\n",
    "nemis=0\n",
    "for i,e in enumerate(dicc_emisiones[\"region\"]):\n",
    "    if e==\"América Latina y Caribe\" and dicc_emisiones[\"co2\"][i]!= \"\" and dicc_emisiones[\"anio\"][i]==2010:\n",
    "        #print(\"index:\",i,\" año\",dicc_emisiones[\"anio\"][i],\" co2\",dicc_emisiones[\"co2\"][i],\"kt\")\n",
    "        nemis+=dicc_emisiones[\"co2\"][i]\n",
    "print(int(nemis),\"kt\")"
   ]
  },
  {
   "cell_type": "code",
   "execution_count": 5,
   "metadata": {},
   "outputs": [
    {
     "name": "stdout",
     "output_type": "stream",
     "text": [
      "cod_pais         [ABW, ABW, ABW, ABW, ABW, ABW, ABW, ABW, ABW, ...\n",
      "nom_pais         [Aruba, Aruba, Aruba, Aruba, Aruba, Aruba, Aru...\n",
      "region           [América Latina y Caribe, América Latina y Car...\n",
      "anio             [1960, 1961, 1962, 1963, 1964, 1965, 1966, 196...\n",
      "co2              [, , , , , , , , , , , , , , , , , , , , , , ,...\n",
      "co2_percapita    [, , , , , , , , , , , , , , , , , , , , , , ,...\n",
      "dtype: object\n"
     ]
    }
   ],
   "source": [
    "import pandas as pd\n",
    "dicc_emisiones=pd.Series(dicc_emisiones)\n",
    "print(dicc_emisiones)"
   ]
  }
 ],
 "metadata": {
  "kernelspec": {
   "display_name": "Python 3.9.13 64-bit (microsoft store)",
   "language": "python",
   "name": "python3"
  },
  "language_info": {
   "codemirror_mode": {
    "name": "ipython",
    "version": 3
   },
   "file_extension": ".py",
   "mimetype": "text/x-python",
   "name": "python",
   "nbconvert_exporter": "python",
   "pygments_lexer": "ipython3",
   "version": "3.9.13"
  },
  "orig_nbformat": 4,
  "vscode": {
   "interpreter": {
    "hash": "ce6797e6b52a873d1a784aaad38e393e2d26aa22f7ad7fdba9e6cf2b31e4da34"
   }
  }
 },
 "nbformat": 4,
 "nbformat_minor": 2
}
