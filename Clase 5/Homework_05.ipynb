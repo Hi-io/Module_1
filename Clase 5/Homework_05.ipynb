{
 "cells": [
  {
   "cell_type": "markdown",
   "metadata": {},
   "source": [
    "# Práctica Clase 5"
   ]
  },
  {
   "cell_type": "markdown",
   "metadata": {},
   "source": [
    "1) Implementar un juego, que consista en apilar números enteros del 1 al 20, de forma aleatoria, para lo cual debe usarse una estructura de Pila. \n",
    "Luego, el usuario debe elegir un número de veces en que se va a quitar elementos de la pila, los cuales, sumados entre sí, no deben superar el valor de 50.\n",
    "El usuario pierde si la suma supera ese valor. Si no lo supera, gana, pero su calificación será 10 menos el número elementos que falten quitar para todavía no superar 50.\n",
    "El programa debe informar si perdió, y si ganó, con qué calificación lo hizo.\n",
    "\n",
    "Consideraciones:<br>\n",
    "a. Se puede usar la función input() para obtener una entrada de teclado.<br>\n",
    "b. Se puede usar la el modulo random para obtener valores aleatorios."
   ]
  },
  {
   "cell_type": "code",
   "execution_count": 24,
   "metadata": {},
   "outputs": [
    {
     "name": "stdout",
     "output_type": "stream",
     "text": [
      "La suma superó los 50,\n",
      " la suma fue de: 52\n"
     ]
    }
   ],
   "source": [
    "import random\n",
    "hiro=[]\n",
    "inv=[]\n",
    "for i in range(0,10):\n",
    "    hiro.append(random.randrange(1,21))\n",
    "quitar=input(\"cuántos números deseas quitar)?\")\n",
    "for i in range(0,int(quitar)):\n",
    "    inv.append(hiro.pop())\n",
    "resultado=sum(inv)\n",
    "if resultado>50:\n",
    "    print(\"La suma superó los 50,\\n la suma fue de:\",resultado)\n",
    "else:\n",
    "    print(\"Ganaste, conseguiste\",10-(50-resultado),\"puntos\\n la suma fue de:\",resultado)"
   ]
  },
  {
   "cell_type": "markdown",
   "metadata": {},
   "source": [
    "2) Implementar un juego donde constas de 2 jarras, de capacidad 5 y 3 litros respectivamente, y debes colocar 4 litros en la jarra de 5L.\n",
    "Las opciones posibles son:\n",
    "* Llenar la jarra de 3 litros\n",
    "* Llenar la jarra de 5 litros\n",
    "* Vaciar la jarra de 3 litros\n",
    "* Vaciar la jarra de 5 litros\n",
    "* Verter el contenido de la jarra de 3 litros en la de 5 litros\n",
    "* Verter el contenido de la jarra de 5 litros en la de 3 litros"
   ]
  },
  {
   "cell_type": "code",
   "execution_count": 41,
   "metadata": {},
   "outputs": [
    {
     "name": "stdout",
     "output_type": "stream",
     "text": [
      "______________________________________________________________\n",
      "0 = Jarra 3\n",
      " 0 = Jarra 5\n",
      "[3] Para seleccionar la jarra de 3L\n",
      "[5] Para seleccionar la jarra de 5L\n",
      "[x] Para terminar el juego\n"
     ]
    },
    {
     "ename": "KeyboardInterrupt",
     "evalue": "Interrupted by user",
     "output_type": "error",
     "traceback": [
      "\u001b[1;31m---------------------------------------------------------------------------\u001b[0m",
      "\u001b[1;31mKeyboardInterrupt\u001b[0m                         Traceback (most recent call last)",
      "\u001b[1;32mc:\\Users\\Hiros\\OneDrive\\Henry\\Modulo 1\\Clase 5\\Homework_05.ipynb Cell 5\u001b[0m in \u001b[0;36m<cell line: 5>\u001b[1;34m()\u001b[0m\n\u001b[0;32m      <a href='vscode-notebook-cell:/c%3A/Users/Hiros/OneDrive/Henry/Modulo%201/Clase%205/Homework_05.ipynb#W4sZmlsZQ%3D%3D?line=7'>8</a>\u001b[0m \u001b[39mprint\u001b[39m(J3,\u001b[39m\"\u001b[39m\u001b[39m= Jarra 3\u001b[39m\u001b[39m\\n\u001b[39;00m\u001b[39m\"\u001b[39m,J5,\u001b[39m\"\u001b[39m\u001b[39m= Jarra 5\u001b[39m\u001b[39m\"\u001b[39m)\n\u001b[0;32m      <a href='vscode-notebook-cell:/c%3A/Users/Hiros/OneDrive/Henry/Modulo%201/Clase%205/Homework_05.ipynb#W4sZmlsZQ%3D%3D?line=8'>9</a>\u001b[0m \u001b[39mprint\u001b[39m(\u001b[39m\"\u001b[39m\u001b[39m[3] Para seleccionar la jarra de 3L\u001b[39m\u001b[39m\\n\u001b[39;00m\u001b[39m[5] Para seleccionar la jarra de 5L\u001b[39m\u001b[39m\\n\u001b[39;00m\u001b[39m[x] Para terminar el juego\u001b[39m\u001b[39m\"\u001b[39m)\n\u001b[1;32m---> <a href='vscode-notebook-cell:/c%3A/Users/Hiros/OneDrive/Henry/Modulo%201/Clase%205/Homework_05.ipynb#W4sZmlsZQ%3D%3D?line=9'>10</a>\u001b[0m select\u001b[39m=\u001b[39m\u001b[39minput\u001b[39;49m()\n\u001b[0;32m     <a href='vscode-notebook-cell:/c%3A/Users/Hiros/OneDrive/Henry/Modulo%201/Clase%205/Homework_05.ipynb#W4sZmlsZQ%3D%3D?line=10'>11</a>\u001b[0m \u001b[39mif\u001b[39;00m select \u001b[39m==\u001b[39m \u001b[39m\"\u001b[39m\u001b[39mx\u001b[39m\u001b[39m\"\u001b[39m:\n\u001b[0;32m     <a href='vscode-notebook-cell:/c%3A/Users/Hiros/OneDrive/Henry/Modulo%201/Clase%205/Homework_05.ipynb#W4sZmlsZQ%3D%3D?line=11'>12</a>\u001b[0m     seguir \u001b[39m=\u001b[39m \u001b[39mFalse\u001b[39;00m\n",
      "File \u001b[1;32m~\\AppData\\Local\\Packages\\PythonSoftwareFoundation.Python.3.9_qbz5n2kfra8p0\\LocalCache\\local-packages\\Python39\\site-packages\\ipykernel\\kernelbase.py:1177\u001b[0m, in \u001b[0;36mKernel.raw_input\u001b[1;34m(self, prompt)\u001b[0m\n\u001b[0;32m   1173\u001b[0m \u001b[39mif\u001b[39;00m \u001b[39mnot\u001b[39;00m \u001b[39mself\u001b[39m\u001b[39m.\u001b[39m_allow_stdin:\n\u001b[0;32m   1174\u001b[0m     \u001b[39mraise\u001b[39;00m StdinNotImplementedError(\n\u001b[0;32m   1175\u001b[0m         \u001b[39m\"\u001b[39m\u001b[39mraw_input was called, but this frontend does not support input requests.\u001b[39m\u001b[39m\"\u001b[39m\n\u001b[0;32m   1176\u001b[0m     )\n\u001b[1;32m-> 1177\u001b[0m \u001b[39mreturn\u001b[39;00m \u001b[39mself\u001b[39;49m\u001b[39m.\u001b[39;49m_input_request(\n\u001b[0;32m   1178\u001b[0m     \u001b[39mstr\u001b[39;49m(prompt),\n\u001b[0;32m   1179\u001b[0m     \u001b[39mself\u001b[39;49m\u001b[39m.\u001b[39;49m_parent_ident[\u001b[39m\"\u001b[39;49m\u001b[39mshell\u001b[39;49m\u001b[39m\"\u001b[39;49m],\n\u001b[0;32m   1180\u001b[0m     \u001b[39mself\u001b[39;49m\u001b[39m.\u001b[39;49mget_parent(\u001b[39m\"\u001b[39;49m\u001b[39mshell\u001b[39;49m\u001b[39m\"\u001b[39;49m),\n\u001b[0;32m   1181\u001b[0m     password\u001b[39m=\u001b[39;49m\u001b[39mFalse\u001b[39;49;00m,\n\u001b[0;32m   1182\u001b[0m )\n",
      "File \u001b[1;32m~\\AppData\\Local\\Packages\\PythonSoftwareFoundation.Python.3.9_qbz5n2kfra8p0\\LocalCache\\local-packages\\Python39\\site-packages\\ipykernel\\kernelbase.py:1219\u001b[0m, in \u001b[0;36mKernel._input_request\u001b[1;34m(self, prompt, ident, parent, password)\u001b[0m\n\u001b[0;32m   1216\u001b[0m             \u001b[39mbreak\u001b[39;00m\n\u001b[0;32m   1217\u001b[0m \u001b[39mexcept\u001b[39;00m \u001b[39mKeyboardInterrupt\u001b[39;00m:\n\u001b[0;32m   1218\u001b[0m     \u001b[39m# re-raise KeyboardInterrupt, to truncate traceback\u001b[39;00m\n\u001b[1;32m-> 1219\u001b[0m     \u001b[39mraise\u001b[39;00m \u001b[39mKeyboardInterrupt\u001b[39;00m(\u001b[39m\"\u001b[39m\u001b[39mInterrupted by user\u001b[39m\u001b[39m\"\u001b[39m) \u001b[39mfrom\u001b[39;00m \u001b[39mNone\u001b[39m\n\u001b[0;32m   1220\u001b[0m \u001b[39mexcept\u001b[39;00m \u001b[39mException\u001b[39;00m:\n\u001b[0;32m   1221\u001b[0m     \u001b[39mself\u001b[39m\u001b[39m.\u001b[39mlog\u001b[39m.\u001b[39mwarning(\u001b[39m\"\u001b[39m\u001b[39mInvalid Message:\u001b[39m\u001b[39m\"\u001b[39m, exc_info\u001b[39m=\u001b[39m\u001b[39mTrue\u001b[39;00m)\n",
      "\u001b[1;31mKeyboardInterrupt\u001b[0m: Interrupted by user"
     ]
    }
   ],
   "source": [
    "from IPython.display import clear_output\n",
    "seguir=True\n",
    "J3=0\n",
    "J5=0\n",
    "while seguir:\n",
    "    clear_output(wait=True)\n",
    "    print(\"______________________________________________________________\")\n",
    "    print(J3,\"= Jarra 3\\n\",J5,\"= Jarra 5\")\n",
    "    print(\"[3] Para seleccionar la jarra de 3L\\n[5] Para seleccionar la jarra de 5L\\n[x] Para terminar el juego\")\n",
    "    select=input()\n",
    "    if select == \"x\":\n",
    "        seguir = False\n",
    "    elif select ==\"3\" or select==\"5\":\n",
    "        print(\"[1] Llenar jarra\\n[2] Vaciar Jarra\\n[3] Verter contenido en la otra jarra\")\n",
    "        action=input()\n",
    "        if action==\"1\":\n",
    "            if select==\"3\":\n",
    "                J3+=3\n",
    "            else:\n",
    "                J5+=5\n",
    "        elif action==\"2\":\n",
    "            if select==\"3\":\n",
    "                J3=0\n",
    "            else:\n",
    "                J5=0\n",
    "        elif action==\"3\":\n",
    "            if select==\"3\":\n",
    "                J5=J5+J3\n",
    "                J3=0\n",
    "            else:\n",
    "                J3=J3+J5\n",
    "                J5=0\n",
    "    else:\n",
    "        print(\"No ha seleccionado ninguna opción\")\n",
    "    if J3 > 3:\n",
    "        J3=3\n",
    "    if J5 > 6:\n",
    "        J5=5\n",
    "clear_output(wait=True)\n",
    "print(\"Se acabó el juego.\")\n",
    "\n"
   ]
  },
  {
   "cell_type": "code",
   "execution_count": null,
   "metadata": {},
   "outputs": [],
   "source": [
    "seguir=True\n",
    "J3=[]\n",
    "J5=[]\n",
    "while seguir:\n",
    "    clear_output(wait=True)\n",
    "    print(\"Jarra 3 = \",J3)\n",
    "    print(\"Jarra 5 = \",J5)\n",
    "    print(\"[3] Para seleccionar la jarra de 3L\\n[5] Para seleccionar la jarra de 5L\\n[x] Para terminar el juego\")\n",
    "    select=input()\n",
    "    if select==\"3\" or select ==\"5\":\n",
    "        print(\"[1] Llenar jarra\\n[2] Vaciar Jarra\\n[3] Verter contenido en la otra jarra\")\n",
    "        action=input()\n",
    "\n"
   ]
  }
 ],
 "metadata": {
  "kernelspec": {
   "display_name": "Python 3.9.13 64-bit (microsoft store)",
   "language": "python",
   "name": "python3"
  },
  "language_info": {
   "codemirror_mode": {
    "name": "ipython",
    "version": 3
   },
   "file_extension": ".py",
   "mimetype": "text/x-python",
   "name": "python",
   "nbconvert_exporter": "python",
   "pygments_lexer": "ipython3",
   "version": "3.9.13"
  },
  "vscode": {
   "interpreter": {
    "hash": "ce6797e6b52a873d1a784aaad38e393e2d26aa22f7ad7fdba9e6cf2b31e4da34"
   }
  }
 },
 "nbformat": 4,
 "nbformat_minor": 4
}
