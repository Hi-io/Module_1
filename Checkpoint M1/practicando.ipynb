{
 "cells": [
  {
   "cell_type": "code",
   "execution_count": 2,
   "metadata": {},
   "outputs": [],
   "source": [
    "import pandas as pd\n",
    "import numpy as np"
   ]
  },
  {
   "cell_type": "code",
   "execution_count": 23,
   "metadata": {},
   "outputs": [],
   "source": [
    "df=pd.read_csv(\"datasets/Fuentes_Consumo_Energia.csv\")\n",
    "df=df[\"Entity\"]=\"Argentina\""
   ]
  },
  {
   "cell_type": "code",
   "execution_count": 34,
   "metadata": {},
   "outputs": [],
   "source": [
    "def Ret_Pregunta01():\n",
    "    '''\n",
    "    Debes utilizar Pandas para ingestar en un objeto Dataframe el contenido del archivo provisto\n",
    "    \"Fuentes_Consumo_Energia.csv\".\n",
    "    Esta función debe informar la cantidad de registros cuya entidad sea Argentina retornando ese valor en un dato de tipo entero.\n",
    "    Pista averiguar la función Shape\n",
    "    '''\n",
    "    #Tu código aca:\n",
    "    df=pd.read_csv(\"datasets/Fuentes_Consumo_Energia.csv\")\n",
    "    df=df[df.Entity.eq(\"Argentina\")]\n",
    "    return df.shape[0]\n",
    "\n",
    "\n",
    "\n",
    "    #return 'Funcion incompleta'"
   ]
  },
  {
   "cell_type": "code",
   "execution_count": 35,
   "metadata": {},
   "outputs": [
    {
     "data": {
      "text/plain": [
       "55"
      ]
     },
     "execution_count": 35,
     "metadata": {},
     "output_type": "execute_result"
    }
   ],
   "source": [
    "Ret_Pregunta01()"
   ]
  },
  {
   "cell_type": "code",
   "execution_count": 58,
   "metadata": {},
   "outputs": [],
   "source": [
    "def Ret_Pregunta02():\n",
    "    '''\n",
    "    Debes utilizar Pandas para ingestar en un objeto Dataframe el contenido del archivo provisto\n",
    "    \"Fuentes_Consumo_Energia.csv\".\n",
    "    Esta función debe eliminar las columnas 'Code' y 'Entity' y luego informar la cantidad de columnas\n",
    "    retornando ese valor en un dato de tipo entero.\n",
    "    '''\n",
    "    #Tu código aca:\n",
    "    df=pd.read_csv(r\"datasets\\Fuentes_Consumo_Energia.csv\")\n",
    "    df.drop(columns=[\"Code\",\"Entity\"],inplace=True)\n",
    "    return df.shape[1]\n",
    "\n",
    "\n",
    "\n",
    "    #return 'Funcion incompleta'"
   ]
  },
  {
   "cell_type": "code",
   "execution_count": 59,
   "metadata": {},
   "outputs": [
    {
     "data": {
      "text/plain": [
       "9"
      ]
     },
     "execution_count": 59,
     "metadata": {},
     "output_type": "execute_result"
    }
   ],
   "source": [
    "Ret_Pregunta02()"
   ]
  },
  {
   "cell_type": "code",
   "execution_count": 80,
   "metadata": {},
   "outputs": [],
   "source": [
    "def Ret_Pregunta03():\n",
    "    '''\n",
    "    Debes utilizar Pandas para ingestar en un objeto Dataframe el contenido del archivo provisto\n",
    "    \"Fuentes_Consumo_Energia.csv\".\n",
    "    Esta función debe informar la cantidad de registros, sin tener en cuenta aquellos con valores faltantes, para el campo 'Code' \n",
    "    y retornando ese valor en un dato de tipo entero.\n",
    "    '''\n",
    "    #Tu código aca:\n",
    "    df=pd.read_csv(\"datasets/Fuentes_Consumo_Energia.csv\")\n",
    "    df=df[df[\"Code\"].notna()]\n",
    "    return df.shape[0]\n",
    "    #return 'Funcion incompleta'"
   ]
  },
  {
   "cell_type": "code",
   "execution_count": 151,
   "metadata": {},
   "outputs": [
    {
     "data": {
      "text/html": [
       "<div>\n",
       "<style scoped>\n",
       "    .dataframe tbody tr th:only-of-type {\n",
       "        vertical-align: middle;\n",
       "    }\n",
       "\n",
       "    .dataframe tbody tr th {\n",
       "        vertical-align: top;\n",
       "    }\n",
       "\n",
       "    .dataframe thead th {\n",
       "        text-align: right;\n",
       "    }\n",
       "</style>\n",
       "<table border=\"1\" class=\"dataframe\">\n",
       "  <thead>\n",
       "    <tr style=\"text-align: right;\">\n",
       "      <th></th>\n",
       "      <th>Entity</th>\n",
       "      <th>Code</th>\n",
       "      <th>Year</th>\n",
       "      <th>Coal_Consumption_EJ</th>\n",
       "      <th>Gas_Consumption_EJ</th>\n",
       "      <th>Geo_Biomass_Other_TWh</th>\n",
       "      <th>Hydro_Generation_TWh</th>\n",
       "      <th>Nuclear_Generation_TWh</th>\n",
       "      <th>Solar_Generation_TWh</th>\n",
       "      <th>Wind_Generation_TWh</th>\n",
       "      <th>Oil_Consumption_EJ</th>\n",
       "    </tr>\n",
       "  </thead>\n",
       "  <tbody>\n",
       "    <tr>\n",
       "      <th>5185</th>\n",
       "      <td>World</td>\n",
       "      <td>OWID_WRL</td>\n",
       "      <td>2015</td>\n",
       "      <td>157.838896</td>\n",
       "      <td>125.208335</td>\n",
       "      <td>538.277477</td>\n",
       "      <td>3884.619692</td>\n",
       "      <td>2575.763561</td>\n",
       "      <td>256.838045</td>\n",
       "      <td>831.567439</td>\n",
       "      <td>183.210968</td>\n",
       "    </tr>\n",
       "    <tr>\n",
       "      <th>5186</th>\n",
       "      <td>World</td>\n",
       "      <td>OWID_WRL</td>\n",
       "      <td>2016</td>\n",
       "      <td>155.504177</td>\n",
       "      <td>128.124027</td>\n",
       "      <td>547.865908</td>\n",
       "      <td>4012.947981</td>\n",
       "      <td>2614.905286</td>\n",
       "      <td>328.237428</td>\n",
       "      <td>963.774036</td>\n",
       "      <td>186.912413</td>\n",
       "    </tr>\n",
       "    <tr>\n",
       "      <th>5187</th>\n",
       "      <td>World</td>\n",
       "      <td>OWID_WRL</td>\n",
       "      <td>2017</td>\n",
       "      <td>156.094106</td>\n",
       "      <td>131.708206</td>\n",
       "      <td>582.893132</td>\n",
       "      <td>4065.869592</td>\n",
       "      <td>2638.554157</td>\n",
       "      <td>446.946764</td>\n",
       "      <td>1140.971268</td>\n",
       "      <td>189.242920</td>\n",
       "    </tr>\n",
       "    <tr>\n",
       "      <th>5188</th>\n",
       "      <td>World</td>\n",
       "      <td>OWID_WRL</td>\n",
       "      <td>2018</td>\n",
       "      <td>158.793935</td>\n",
       "      <td>138.659832</td>\n",
       "      <td>615.038237</td>\n",
       "      <td>4171.404951</td>\n",
       "      <td>2700.373917</td>\n",
       "      <td>582.754345</td>\n",
       "      <td>1270.164880</td>\n",
       "      <td>191.451896</td>\n",
       "    </tr>\n",
       "    <tr>\n",
       "      <th>5189</th>\n",
       "      <td>World</td>\n",
       "      <td>OWID_WRL</td>\n",
       "      <td>2019</td>\n",
       "      <td>157.857047</td>\n",
       "      <td>141.452770</td>\n",
       "      <td>651.811211</td>\n",
       "      <td>4222.214992</td>\n",
       "      <td>2795.961529</td>\n",
       "      <td>724.086506</td>\n",
       "      <td>1429.619982</td>\n",
       "      <td>193.031574</td>\n",
       "    </tr>\n",
       "  </tbody>\n",
       "</table>\n",
       "</div>"
      ],
      "text/plain": [
       "     Entity      Code  Year  Coal_Consumption_EJ  Gas_Consumption_EJ  \\\n",
       "5185  World  OWID_WRL  2015           157.838896          125.208335   \n",
       "5186  World  OWID_WRL  2016           155.504177          128.124027   \n",
       "5187  World  OWID_WRL  2017           156.094106          131.708206   \n",
       "5188  World  OWID_WRL  2018           158.793935          138.659832   \n",
       "5189  World  OWID_WRL  2019           157.857047          141.452770   \n",
       "\n",
       "      Geo_Biomass_Other_TWh  Hydro_Generation_TWh  Nuclear_Generation_TWh  \\\n",
       "5185             538.277477           3884.619692             2575.763561   \n",
       "5186             547.865908           4012.947981             2614.905286   \n",
       "5187             582.893132           4065.869592             2638.554157   \n",
       "5188             615.038237           4171.404951             2700.373917   \n",
       "5189             651.811211           4222.214992             2795.961529   \n",
       "\n",
       "      Solar_Generation_TWh  Wind_Generation_TWh  Oil_Consumption_EJ  \n",
       "5185            256.838045           831.567439          183.210968  \n",
       "5186            328.237428           963.774036          186.912413  \n",
       "5187            446.946764          1140.971268          189.242920  \n",
       "5188            582.754345          1270.164880          191.451896  \n",
       "5189            724.086506          1429.619982          193.031574  "
      ]
     },
     "execution_count": 151,
     "metadata": {},
     "output_type": "execute_result"
    }
   ],
   "source": [
    "    df=pd.read_csv(\"datasets/Fuentes_Consumo_Energia.csv\")\n",
    "df=df[df[\"Code\"].notna()]\n",
    "    df.tail()"
   ]
  },
  {
   "cell_type": "code",
   "execution_count": 81,
   "metadata": {},
   "outputs": [
    {
     "data": {
      "text/plain": [
       "4145"
      ]
     },
     "execution_count": 81,
     "metadata": {},
     "output_type": "execute_result"
    }
   ],
   "source": [
    "Ret_Pregunta03()"
   ]
  },
  {
   "cell_type": "code",
   "execution_count": 128,
   "metadata": {},
   "outputs": [],
   "source": [
    "def Ret_Pregunta04():\n",
    "    '''\n",
    "    Debes utilizar Pandas para ingestar en un objeto Dataframe el contenido del archivo provisto\n",
    "    \"Fuentes_Consumo_Energia.csv\".\n",
    "    El ExaJulio es una unidad diferent al TWh, es decir, no tiene sentido sumarlos o\n",
    "    buscar proporciones entre ellos. \n",
    "    La fórmula de conversión es: 277.778 Teravatios/Hora (TWh) = 1 Exajulio\n",
    "    Los campos terminados en \"_EJ\" corresponden a mediciones en Exajulios,\n",
    "    y los terminados en \"_TWh\" corresponden a Teravatios/Hora.\n",
    "\n",
    "    La consigna es crear un nuevo campo, que se denomine \"Consumo_Total\"\n",
    "    y que guarde la sumatoria de todos los consumos expresados en Teravatios/Hora\n",
    "    (convirtiendo a esta medida los que están en Exajulios).\n",
    "\n",
    "    Esta función debe informar el consumo total para la entidad 'World' y año '2019',\n",
    "    redondeado a 2 decimales, retornando ese valor en un dato de tipo float.\n",
    "    '''\n",
    "    #Tu código aca:\n",
    "    df=pd.read_csv(\"datasets/Fuentes_Consumo_Energia.csv\")\n",
    "    ej=[\"Coal_Consumption_EJ\",\"Gas_Consumption_EJ\",\"Oil_Consumption_EJ\"]\n",
    "    tw=[\"Geo_Biomass_Other_TWh\",\"Hydro_Generation_TWh\",\"Nuclear_Generation_TWh\",\"Solar_Generation_TWh\",\"Wind_Generation_TWh\"]\n",
    "    df[\"Consumo_Total\"]=((df[ej].sum(1))*277.778)+df[tw].sum(1)\n",
    "    return round(df[\"Consumo_Total\"].where(df[\"Entity\"]==\"World\").where(df[\"Year\"]==2019).dropna().iloc[0],2)\n",
    "    \n",
    "    \n",
    "    #return 'Funcion incompleta'"
   ]
  },
  {
   "cell_type": "code",
   "execution_count": 130,
   "metadata": {},
   "outputs": [
    {
     "name": "stdout",
     "output_type": "stream",
     "text": [
      "True\n"
     ]
    }
   ],
   "source": [
    "Ret_Pregunta04()"
   ]
  },
  {
   "cell_type": "code",
   "execution_count": 4,
   "metadata": {},
   "outputs": [],
   "source": [
    "import pandas as pd\n",
    "import numpy as np\n",
    "\n",
    "def Ret_Pregunta01():\n",
    "    '''\n",
    "    Debes utilizar Pandas para ingestar en un objeto Dataframe el contenido del archivo provisto \n",
    "    \"GGAL - Cotizaciones historicas.csv\". Este csv contiene información de cotización de la \n",
    "    acción del Banco Galciia SA. Esta función debe tomar la columna máximo y \n",
    "    devolver la suma de los valores de esta, con 4 decimales después de la coma, redondeado.\n",
    "    '''\n",
    "    #Tu código aca: \n",
    "    df = pd.read_csv('datasets\\GGAL - Cotizaciones historicas.csv')\n",
    "    maximo = round((df['maximo'].sum()),4)\n",
    "    return maximo "
   ]
  },
  {
   "cell_type": "code",
   "execution_count": 195,
   "metadata": {},
   "outputs": [],
   "source": [
    "def Ret_Pregunta05():\n",
    "    '''\n",
    "    Debes utilizar Pandas para ingestar en un objeto Dataframe el contenido del archivo provisto\n",
    "    \"Fuentes_Consumo_Energia.csv\".\n",
    "    Esta función debe informar el año de mayor generación de energía solar (Solar_Generation_TWh)\n",
    "    para la entidad 'Europe' retornando ese valor en un dato de tipo entero.\n",
    "    '''\n",
    "    #Tu código aca:\n",
    "    df=pd.read_csv(\"datasets/Fuentes_Consumo_Energia.csv\")\n",
    "    df=df[df.Entity.eq(\"Europe\")]\n",
    "    maximo=float(\"-inf\")\n",
    "    im=0\n",
    "    for e,i in enumerate(df[\"Solar_Generation_TWh\"]):\n",
    "        if i>maximo:\n",
    "            im=e\n",
    "            maximo=i\n",
    "    return round(df[\"Year\"].where(df[\"Solar_Generation_TWh\"]==maximo).dropna().iloc[0])\n",
    "    #return 'Funcion incompleta'"
   ]
  },
  {
   "cell_type": "code",
   "execution_count": 187,
   "metadata": {},
   "outputs": [
    {
     "data": {
      "text/plain": [
       "nan"
      ]
     },
     "execution_count": 187,
     "metadata": {},
     "output_type": "execute_result"
    }
   ],
   "source": [
    "df[\"Year\"].where(df[\"Solar_Generation_TWh\"]==maximo).iloc[0]"
   ]
  },
  {
   "cell_type": "code",
   "execution_count": 196,
   "metadata": {},
   "outputs": [
    {
     "data": {
      "text/plain": [
       "2019"
      ]
     },
     "execution_count": 196,
     "metadata": {},
     "output_type": "execute_result"
    }
   ],
   "source": [
    "Ret_Pregunta05()"
   ]
  },
  {
   "cell_type": "code",
   "execution_count": 225,
   "metadata": {},
   "outputs": [],
   "source": [
    "def Ret_Pregunta06(m1, m2):\n",
    "    '''\n",
    "    Esta función recibe dos arrays de Numpy, de 2 dimensiones cada uno y devuelve el valor booleano True si es posible realizar una multiplicación entre ambas matrices,\n",
    "    y el valor booleano False si no lo es.\n",
    "    Ej:\n",
    "        n1 = np.array([[0,0,0],[1,1,1],[2,2,2]])\n",
    "        n2 = np.array([[3,3],[4,4],[5,5]])\n",
    "        print(Ret_Pregunta06(n1,n2))\n",
    "            True            -> Valor devuelto por la función en este ejemplo\n",
    "        print(Ret_Pregunta06(n2,n1))\n",
    "            False            -> Valor devuelto por la función en este ejemplo\n",
    "    '''\n",
    "    #Tu código aca:\n",
    "    m1x,m1y=m1.shape\n",
    "    m2x,m2y=m2.shape\n",
    "    if m1x==m2y or m2x == m1y:\n",
    "        return True\n",
    "    return False\n",
    "    #return 'Funcion incompleta'"
   ]
  },
  {
   "cell_type": "code",
   "execution_count": 229,
   "metadata": {},
   "outputs": [
    {
     "data": {
      "text/plain": [
       "False"
      ]
     },
     "execution_count": 229,
     "metadata": {},
     "output_type": "execute_result"
    }
   ],
   "source": [
    "n1 = np.array([[0,0,0],[1,1,1],[2,2,2],[3,3,3],[4,4,4],[5,5,5]])\n",
    "n2 = np.array([[6,7],[8,6],[7,8],[1,1]])\n",
    "Ret_Pregunta06(n1, n2)"
   ]
  },
  {
   "cell_type": "code",
   "execution_count": 224,
   "metadata": {},
   "outputs": [
    {
     "name": "stdout",
     "output_type": "stream",
     "text": [
      "True\n"
     ]
    }
   ],
   "source": [
    "m1 = np.array([[0,0,0],[1,1,1],[2,2,2]])\n",
    "m2 = np.array([[3,3],[4,4],[5,5]])\n",
    "m1x,m1y=m1.shape\n",
    "m2x,m2y=m2.shape\n",
    "if m1x==m2y or m2x == m1y:\n",
    "    print(True)\n",
    "else:\n",
    "    print(\"False\")"
   ]
  },
  {
   "cell_type": "code",
   "execution_count": 287,
   "metadata": {},
   "outputs": [],
   "source": [
    "from xml.dom.minidom import Entity\n",
    "\n",
    "\n",
    "def Ret_Pregunta07():\n",
    "    '''\n",
    "    Debes utilizar Pandas para ingestar en un objeto Dataframe el contenido del archivo provisto\n",
    "    \"Fuentes_Consumo_Energia.csv\".\n",
    "    Esta función debe informar cuál de la siguiente lista de países tuvo mayor generación de\n",
    "    energía solar (Solar_Generation_TWh) en el año 2019:\n",
    "        * Argentina\n",
    "        * Brazil\n",
    "        * Chile\n",
    "        * Colombia\n",
    "        * Ecuador\n",
    "        * Mexico\n",
    "        * Peru\n",
    "    Debe retornar el valor en un dato de tipo string.\n",
    "    '''\n",
    "    #Tu código aca:\n",
    "    df=pd.read_csv(\"datasets/Fuentes_Consumo_Energia.csv\")\n",
    "    paises=\"Argentina\",\"Brazil\",\"Chile\",\"Colombia\",\"Ecuador\",\"Mexico\",\"Peru\"\n",
    "    df=df.loc[(df['Year'] == 2019) & (df['Entity'].isin (paises))]\n",
    "    df=df.sort_values(by=[\"Solar_Generation_TWh\"],ascending=False)\n",
    "    return str(df.iloc[0]['Entity'])\n",
    "    #return 'Funcion incompleta'"
   ]
  },
  {
   "cell_type": "code",
   "execution_count": 288,
   "metadata": {},
   "outputs": [
    {
     "data": {
      "text/plain": [
       "'Mexico'"
      ]
     },
     "execution_count": 288,
     "metadata": {},
     "output_type": "execute_result"
    }
   ],
   "source": [
    "Ret_Pregunta07()"
   ]
  },
  {
   "cell_type": "code",
   "execution_count": 332,
   "metadata": {},
   "outputs": [],
   "source": [
    "def Ret_Pregunta08():\n",
    "    '''\n",
    "    Debes utilizar Pandas para ingestar en un objeto Dataframe el contenido del archivo provisto\n",
    "    \"Fuentes_Consumo_Energia.csv\".\n",
    "    Esta función debe informar la cantidad de entidades diferentes que están presentes en el dataset, retornando ese valor en un dato de tipo entero.\n",
    "    '''\n",
    "    #Tu código aca:\n",
    "    df=pd.read_csv(\"datasets/Fuentes_Consumo_Energia.csv\")\n",
    "    df=df[\"Entity\"].drop_duplicates(inplace=False)\n",
    "    return df.count()\n",
    "    #return 'Funcion incompleta'"
   ]
  },
  {
   "cell_type": "code",
   "execution_count": 333,
   "metadata": {},
   "outputs": [
    {
     "data": {
      "text/plain": [
       "100"
      ]
     },
     "execution_count": 333,
     "metadata": {},
     "output_type": "execute_result"
    }
   ],
   "source": [
    "Ret_Pregunta08()"
   ]
  },
  {
   "cell_type": "code",
   "execution_count": 422,
   "metadata": {},
   "outputs": [],
   "source": [
    "def Ret_Pregunta09():\n",
    "    '''\n",
    "    Debes utilizar Pandas para ingestar en un objeto Dataframe el contenido del archivo provisto\n",
    "    \"datasets/Tabla1_ejercicio.csv\" y \"datasets/Tabla2_ejercicio.csv\".\n",
    "\n",
    "    Esta función debe retornar: score_promedio_femenino y score_promedio_masculino en formato tupla, teniendo en cuenta que no debe haber registros repetidos.\n",
    "    '''\n",
    "    #Tu código aca:\n",
    "    df1=pd.read_csv(\"datasets/Tabla1_ejercicio.csv\",sep=\";\")\n",
    "    df2=pd.read_csv(\"datasets/Tabla2_ejercicio.csv\",sep=\";\")\n",
    "    df2.drop_duplicates(subset=\"pers_id\",inplace=True)\n",
    "    df=pd.merge(df1,df2,on=[\"pers_id\"])\n",
    "    M=df.loc[df['sexo'] == \"M\"]\n",
    "    F=df.loc[df['sexo'] == \"F\"]\n",
    "    \n",
    "    return (round(F[\"score\"].mean(),2),round((M[\"score\"].mean()),2))\n",
    "\n",
    "\n",
    "    #return 'Funcion incompleta'"
   ]
  },
  {
   "cell_type": "code",
   "execution_count": 423,
   "metadata": {},
   "outputs": [
    {
     "data": {
      "text/plain": [
       "(614.88, 803.59)"
      ]
     },
     "execution_count": 423,
     "metadata": {},
     "output_type": "execute_result"
    }
   ],
   "source": [
    "Ret_Pregunta09()"
   ]
  },
  {
   "cell_type": "code",
   "execution_count": 428,
   "metadata": {},
   "outputs": [],
   "source": [
    "def Ret_Pregunta10(lista):\n",
    "    '''\n",
    "    Esta función recibe como parámetro un objeto de la clase Lista() definida en el archivo Lista.py. Debe recorrer la lista y retornan \n",
    "    la cantidad de nodos que posee. Utilizar el método de la clase\n",
    "    Lista llamado getCabecera()\n",
    "    Ejemplo:\n",
    "        lis = Lista()\n",
    "        lista.agregarElemento(1)\n",
    "        lista.agregarElemento(2)\n",
    "        lista.agregarElemento(3)\n",
    "        print(Ret_Pregunta10(lista))\n",
    "            3    -> Debe ser el valor devuelto por la función Ret_Pregunta10() en este ejemplo\n",
    "    '''\n",
    "    #Tu código aca:\n",
    "    import Lista\n",
    "    return lista.contarElementos()"
   ]
  },
  {
   "cell_type": "code",
   "execution_count": 429,
   "metadata": {},
   "outputs": [
    {
     "data": {
      "text/plain": [
       "5"
      ]
     },
     "execution_count": 429,
     "metadata": {},
     "output_type": "execute_result"
    }
   ],
   "source": [
    "import Lista as lis\n",
    "lista = lis.Lista()\n",
    "for i in range(1, 6):\n",
    "    lista.agregarElemento(i)\n",
    "Ret_Pregunta10(lista)"
   ]
  },
  {
   "cell_type": "code",
   "execution_count": 354,
   "metadata": {},
   "outputs": [
    {
     "data": {
      "text/html": [
       "<div>\n",
       "<style scoped>\n",
       "    .dataframe tbody tr th:only-of-type {\n",
       "        vertical-align: middle;\n",
       "    }\n",
       "\n",
       "    .dataframe tbody tr th {\n",
       "        vertical-align: top;\n",
       "    }\n",
       "\n",
       "    .dataframe thead th {\n",
       "        text-align: right;\n",
       "    }\n",
       "</style>\n",
       "<table border=\"1\" class=\"dataframe\">\n",
       "  <thead>\n",
       "    <tr style=\"text-align: right;\">\n",
       "      <th></th>\n",
       "      <th>pers_id</th>\n",
       "      <th>periodo</th>\n",
       "      <th>score</th>\n",
       "    </tr>\n",
       "  </thead>\n",
       "  <tbody>\n",
       "    <tr>\n",
       "      <th>0</th>\n",
       "      <td>27817725</td>\n",
       "      <td>201906</td>\n",
       "      <td>814</td>\n",
       "    </tr>\n",
       "    <tr>\n",
       "      <th>1</th>\n",
       "      <td>37570691</td>\n",
       "      <td>201906</td>\n",
       "      <td>597</td>\n",
       "    </tr>\n",
       "    <tr>\n",
       "      <th>2</th>\n",
       "      <td>40181240</td>\n",
       "      <td>201906</td>\n",
       "      <td>251</td>\n",
       "    </tr>\n",
       "    <tr>\n",
       "      <th>3</th>\n",
       "      <td>52105045</td>\n",
       "      <td>201906</td>\n",
       "      <td>617</td>\n",
       "    </tr>\n",
       "    <tr>\n",
       "      <th>4</th>\n",
       "      <td>63502595</td>\n",
       "      <td>201906</td>\n",
       "      <td>392</td>\n",
       "    </tr>\n",
       "  </tbody>\n",
       "</table>\n",
       "</div>"
      ],
      "text/plain": [
       "    pers_id  periodo  score\n",
       "0  27817725   201906    814\n",
       "1  37570691   201906    597\n",
       "2  40181240   201906    251\n",
       "3  52105045   201906    617\n",
       "4  63502595   201906    392"
      ]
     },
     "execution_count": 354,
     "metadata": {},
     "output_type": "execute_result"
    }
   ],
   "source": [
    "df1=pd.read_csv(\"datasets/Tabla1_ejercicio.csv\",sep=\";\")\n",
    "df2=pd.read_csv(\"datasets/Tabla2_ejercicio.csv\",sep=\";\")\n",
    "#a=df1[\"pers_id\"]\n",
    "df2.head()"
   ]
  },
  {
   "cell_type": "code",
   "execution_count": 7,
   "metadata": {},
   "outputs": [],
   "source": [
    "def Ret_Pregunta03():\n",
    "    '''\n",
    "    Debes utilizar Pandas para ingestar en un objeto Dataframe el contenido del archivo provisto\n",
    "    \"Fuentes_Consumo_Energia.csv\".\n",
    "    Esta función debe informar la cantidad de registros únicos de la columna Year sin tener en cuenta aquellos con valores faltantes\n",
    "    retornando ese valor en un dato de tipo entero.\n",
    "    '''\n",
    "    df1 = pd.read_csv('datasets/Fuentes_Consumo_Energia.csv')\n",
    "    df1.dropna(inplace=True)\n",
    "    years = df1['Year'].unique().sum()\n",
    "    \n",
    "    return int(years)"
   ]
  },
  {
   "cell_type": "code",
   "execution_count": 8,
   "metadata": {},
   "outputs": [
    {
     "data": {
      "text/plain": [
       "109560"
      ]
     },
     "execution_count": 8,
     "metadata": {},
     "output_type": "execute_result"
    }
   ],
   "source": [
    "Ret_Pregunta03()"
   ]
  },
  {
   "cell_type": "code",
   "execution_count": 9,
   "metadata": {},
   "outputs": [],
   "source": [
    "def Ret_Pregunta04():\n",
    "    '''\n",
    "    Debes utilizar Pandas para ingestar en un objeto Dataframe el contenido del archivo provisto \n",
    "    \"Fuentes_Consumo_Energia.csv\".\n",
    "    Esta función debe informar la cantidad de registros retornando ese valor en un dato de tipo entero.\n",
    "    '''\n",
    "    #Tu código aca:\n",
    "    df1 = pd.read_csv('datasets/Fuentes_Consumo_Energia.csv')\n",
    "    \n",
    "    return df1.shape[0]\n"
   ]
  },
  {
   "cell_type": "code",
   "execution_count": 10,
   "metadata": {},
   "outputs": [
    {
     "data": {
      "text/plain": [
       "5190"
      ]
     },
     "execution_count": 10,
     "metadata": {},
     "output_type": "execute_result"
    }
   ],
   "source": [
    "Ret_Pregunta04()"
   ]
  },
  {
   "cell_type": "code",
   "execution_count": 5,
   "metadata": {},
   "outputs": [],
   "source": [
    "def Ret_Pregunta05():\n",
    "    '''\n",
    "        Debes utilizar Pandas para ingestar en un objeto Dataframe el contenido del archivo provisto \n",
    "    \"GGAL - Cotizaciones historicas.csv\". Este csv contiene información de cotización de la \n",
    "    acción del Banco Galciia SA. Crear una nueva columna, llamada \"variacion\", que registre\n",
    "    las variaciones de la columna \"máximo\". La función debe devolver el valor máximo de la \n",
    "    columna \"variacion\". \n",
    "    '''\n",
    "    #Tu código aca:  \n",
    "    df = pd.read_csv('datasets\\GGAL - Cotizaciones historicas.csv')\n",
    "    for e,i in df[\"maximo\"].enumerate():\n",
    "        print(\"gola\")\n",
    "\n",
    "    max_variacion = df['maximo'].var().max()\n",
    "    \n",
    "    return max_variacion"
   ]
  },
  {
   "cell_type": "code",
   "execution_count": 6,
   "metadata": {},
   "outputs": [
    {
     "ename": "FileNotFoundError",
     "evalue": "[Errno 2] No such file or directory: 'datasets\\\\GGAL - Cotizaciones historicas.csv'",
     "output_type": "error",
     "traceback": [
      "\u001b[1;31m---------------------------------------------------------------------------\u001b[0m",
      "\u001b[1;31mFileNotFoundError\u001b[0m                         Traceback (most recent call last)",
      "\u001b[1;32mc:\\Users\\Hiros\\Downloads\\test.ipynb Cell 8\u001b[0m in \u001b[0;36m<cell line: 1>\u001b[1;34m()\u001b[0m\n\u001b[1;32m----> <a href='vscode-notebook-cell:/c%3A/Users/Hiros/Downloads/test.ipynb#X10sZmlsZQ%3D%3D?line=0'>1</a>\u001b[0m Ret_Pregunta05()\n",
      "\u001b[1;32mc:\\Users\\Hiros\\Downloads\\test.ipynb Cell 8\u001b[0m in \u001b[0;36mRet_Pregunta05\u001b[1;34m()\u001b[0m\n\u001b[0;32m      <a href='vscode-notebook-cell:/c%3A/Users/Hiros/Downloads/test.ipynb#X10sZmlsZQ%3D%3D?line=1'>2</a>\u001b[0m \u001b[39m'''\u001b[39;00m\n\u001b[0;32m      <a href='vscode-notebook-cell:/c%3A/Users/Hiros/Downloads/test.ipynb#X10sZmlsZQ%3D%3D?line=2'>3</a>\u001b[0m \u001b[39m    Debes utilizar Pandas para ingestar en un objeto Dataframe el contenido del archivo provisto \u001b[39;00m\n\u001b[0;32m      <a href='vscode-notebook-cell:/c%3A/Users/Hiros/Downloads/test.ipynb#X10sZmlsZQ%3D%3D?line=3'>4</a>\u001b[0m \u001b[39m\"GGAL - Cotizaciones historicas.csv\". Este csv contiene información de cotización de la \u001b[39;00m\n\u001b[1;32m   (...)\u001b[0m\n\u001b[0;32m      <a href='vscode-notebook-cell:/c%3A/Users/Hiros/Downloads/test.ipynb#X10sZmlsZQ%3D%3D?line=6'>7</a>\u001b[0m \u001b[39mcolumna \"variacion\". \u001b[39;00m\n\u001b[0;32m      <a href='vscode-notebook-cell:/c%3A/Users/Hiros/Downloads/test.ipynb#X10sZmlsZQ%3D%3D?line=7'>8</a>\u001b[0m \u001b[39m'''\u001b[39;00m\n\u001b[0;32m      <a href='vscode-notebook-cell:/c%3A/Users/Hiros/Downloads/test.ipynb#X10sZmlsZQ%3D%3D?line=8'>9</a>\u001b[0m \u001b[39m#Tu código aca:  \u001b[39;00m\n\u001b[1;32m---> <a href='vscode-notebook-cell:/c%3A/Users/Hiros/Downloads/test.ipynb#X10sZmlsZQ%3D%3D?line=9'>10</a>\u001b[0m df \u001b[39m=\u001b[39m pd\u001b[39m.\u001b[39;49mread_csv(\u001b[39m'\u001b[39;49m\u001b[39mdatasets\u001b[39;49m\u001b[39m\\\u001b[39;49m\u001b[39mGGAL - Cotizaciones historicas.csv\u001b[39;49m\u001b[39m'\u001b[39;49m)\n\u001b[0;32m     <a href='vscode-notebook-cell:/c%3A/Users/Hiros/Downloads/test.ipynb#X10sZmlsZQ%3D%3D?line=10'>11</a>\u001b[0m \u001b[39mfor\u001b[39;00m e,i \u001b[39min\u001b[39;00m df[\u001b[39m\"\u001b[39m\u001b[39mmaximo\u001b[39m\u001b[39m\"\u001b[39m]\u001b[39m.\u001b[39menumerate():\n\u001b[0;32m     <a href='vscode-notebook-cell:/c%3A/Users/Hiros/Downloads/test.ipynb#X10sZmlsZQ%3D%3D?line=11'>12</a>\u001b[0m     \u001b[39mprint\u001b[39m(\u001b[39m\"\u001b[39m\u001b[39mgola\u001b[39m\u001b[39m\"\u001b[39m)\n",
      "File \u001b[1;32m~\\AppData\\Local\\Packages\\PythonSoftwareFoundation.Python.3.9_qbz5n2kfra8p0\\LocalCache\\local-packages\\Python39\\site-packages\\pandas\\util\\_decorators.py:311\u001b[0m, in \u001b[0;36mdeprecate_nonkeyword_arguments.<locals>.decorate.<locals>.wrapper\u001b[1;34m(*args, **kwargs)\u001b[0m\n\u001b[0;32m    305\u001b[0m \u001b[39mif\u001b[39;00m \u001b[39mlen\u001b[39m(args) \u001b[39m>\u001b[39m num_allow_args:\n\u001b[0;32m    306\u001b[0m     warnings\u001b[39m.\u001b[39mwarn(\n\u001b[0;32m    307\u001b[0m         msg\u001b[39m.\u001b[39mformat(arguments\u001b[39m=\u001b[39marguments),\n\u001b[0;32m    308\u001b[0m         \u001b[39mFutureWarning\u001b[39;00m,\n\u001b[0;32m    309\u001b[0m         stacklevel\u001b[39m=\u001b[39mstacklevel,\n\u001b[0;32m    310\u001b[0m     )\n\u001b[1;32m--> 311\u001b[0m \u001b[39mreturn\u001b[39;00m func(\u001b[39m*\u001b[39margs, \u001b[39m*\u001b[39m\u001b[39m*\u001b[39mkwargs)\n",
      "File \u001b[1;32m~\\AppData\\Local\\Packages\\PythonSoftwareFoundation.Python.3.9_qbz5n2kfra8p0\\LocalCache\\local-packages\\Python39\\site-packages\\pandas\\io\\parsers\\readers.py:678\u001b[0m, in \u001b[0;36mread_csv\u001b[1;34m(filepath_or_buffer, sep, delimiter, header, names, index_col, usecols, squeeze, prefix, mangle_dupe_cols, dtype, engine, converters, true_values, false_values, skipinitialspace, skiprows, skipfooter, nrows, na_values, keep_default_na, na_filter, verbose, skip_blank_lines, parse_dates, infer_datetime_format, keep_date_col, date_parser, dayfirst, cache_dates, iterator, chunksize, compression, thousands, decimal, lineterminator, quotechar, quoting, doublequote, escapechar, comment, encoding, encoding_errors, dialect, error_bad_lines, warn_bad_lines, on_bad_lines, delim_whitespace, low_memory, memory_map, float_precision, storage_options)\u001b[0m\n\u001b[0;32m    663\u001b[0m kwds_defaults \u001b[39m=\u001b[39m _refine_defaults_read(\n\u001b[0;32m    664\u001b[0m     dialect,\n\u001b[0;32m    665\u001b[0m     delimiter,\n\u001b[1;32m   (...)\u001b[0m\n\u001b[0;32m    674\u001b[0m     defaults\u001b[39m=\u001b[39m{\u001b[39m\"\u001b[39m\u001b[39mdelimiter\u001b[39m\u001b[39m\"\u001b[39m: \u001b[39m\"\u001b[39m\u001b[39m,\u001b[39m\u001b[39m\"\u001b[39m},\n\u001b[0;32m    675\u001b[0m )\n\u001b[0;32m    676\u001b[0m kwds\u001b[39m.\u001b[39mupdate(kwds_defaults)\n\u001b[1;32m--> 678\u001b[0m \u001b[39mreturn\u001b[39;00m _read(filepath_or_buffer, kwds)\n",
      "File \u001b[1;32m~\\AppData\\Local\\Packages\\PythonSoftwareFoundation.Python.3.9_qbz5n2kfra8p0\\LocalCache\\local-packages\\Python39\\site-packages\\pandas\\io\\parsers\\readers.py:575\u001b[0m, in \u001b[0;36m_read\u001b[1;34m(filepath_or_buffer, kwds)\u001b[0m\n\u001b[0;32m    572\u001b[0m _validate_names(kwds\u001b[39m.\u001b[39mget(\u001b[39m\"\u001b[39m\u001b[39mnames\u001b[39m\u001b[39m\"\u001b[39m, \u001b[39mNone\u001b[39;00m))\n\u001b[0;32m    574\u001b[0m \u001b[39m# Create the parser.\u001b[39;00m\n\u001b[1;32m--> 575\u001b[0m parser \u001b[39m=\u001b[39m TextFileReader(filepath_or_buffer, \u001b[39m*\u001b[39m\u001b[39m*\u001b[39mkwds)\n\u001b[0;32m    577\u001b[0m \u001b[39mif\u001b[39;00m chunksize \u001b[39mor\u001b[39;00m iterator:\n\u001b[0;32m    578\u001b[0m     \u001b[39mreturn\u001b[39;00m parser\n",
      "File \u001b[1;32m~\\AppData\\Local\\Packages\\PythonSoftwareFoundation.Python.3.9_qbz5n2kfra8p0\\LocalCache\\local-packages\\Python39\\site-packages\\pandas\\io\\parsers\\readers.py:932\u001b[0m, in \u001b[0;36mTextFileReader.__init__\u001b[1;34m(self, f, engine, **kwds)\u001b[0m\n\u001b[0;32m    929\u001b[0m     \u001b[39mself\u001b[39m\u001b[39m.\u001b[39moptions[\u001b[39m\"\u001b[39m\u001b[39mhas_index_names\u001b[39m\u001b[39m\"\u001b[39m] \u001b[39m=\u001b[39m kwds[\u001b[39m\"\u001b[39m\u001b[39mhas_index_names\u001b[39m\u001b[39m\"\u001b[39m]\n\u001b[0;32m    931\u001b[0m \u001b[39mself\u001b[39m\u001b[39m.\u001b[39mhandles: IOHandles \u001b[39m|\u001b[39m \u001b[39mNone\u001b[39;00m \u001b[39m=\u001b[39m \u001b[39mNone\u001b[39;00m\n\u001b[1;32m--> 932\u001b[0m \u001b[39mself\u001b[39m\u001b[39m.\u001b[39m_engine \u001b[39m=\u001b[39m \u001b[39mself\u001b[39;49m\u001b[39m.\u001b[39;49m_make_engine(f, \u001b[39mself\u001b[39;49m\u001b[39m.\u001b[39;49mengine)\n",
      "File \u001b[1;32m~\\AppData\\Local\\Packages\\PythonSoftwareFoundation.Python.3.9_qbz5n2kfra8p0\\LocalCache\\local-packages\\Python39\\site-packages\\pandas\\io\\parsers\\readers.py:1216\u001b[0m, in \u001b[0;36mTextFileReader._make_engine\u001b[1;34m(self, f, engine)\u001b[0m\n\u001b[0;32m   1212\u001b[0m     mode \u001b[39m=\u001b[39m \u001b[39m\"\u001b[39m\u001b[39mrb\u001b[39m\u001b[39m\"\u001b[39m\n\u001b[0;32m   1213\u001b[0m \u001b[39m# error: No overload variant of \"get_handle\" matches argument types\u001b[39;00m\n\u001b[0;32m   1214\u001b[0m \u001b[39m# \"Union[str, PathLike[str], ReadCsvBuffer[bytes], ReadCsvBuffer[str]]\"\u001b[39;00m\n\u001b[0;32m   1215\u001b[0m \u001b[39m# , \"str\", \"bool\", \"Any\", \"Any\", \"Any\", \"Any\", \"Any\"\u001b[39;00m\n\u001b[1;32m-> 1216\u001b[0m \u001b[39mself\u001b[39m\u001b[39m.\u001b[39mhandles \u001b[39m=\u001b[39m get_handle(  \u001b[39m# type: ignore[call-overload]\u001b[39;49;00m\n\u001b[0;32m   1217\u001b[0m     f,\n\u001b[0;32m   1218\u001b[0m     mode,\n\u001b[0;32m   1219\u001b[0m     encoding\u001b[39m=\u001b[39;49m\u001b[39mself\u001b[39;49m\u001b[39m.\u001b[39;49moptions\u001b[39m.\u001b[39;49mget(\u001b[39m\"\u001b[39;49m\u001b[39mencoding\u001b[39;49m\u001b[39m\"\u001b[39;49m, \u001b[39mNone\u001b[39;49;00m),\n\u001b[0;32m   1220\u001b[0m     compression\u001b[39m=\u001b[39;49m\u001b[39mself\u001b[39;49m\u001b[39m.\u001b[39;49moptions\u001b[39m.\u001b[39;49mget(\u001b[39m\"\u001b[39;49m\u001b[39mcompression\u001b[39;49m\u001b[39m\"\u001b[39;49m, \u001b[39mNone\u001b[39;49;00m),\n\u001b[0;32m   1221\u001b[0m     memory_map\u001b[39m=\u001b[39;49m\u001b[39mself\u001b[39;49m\u001b[39m.\u001b[39;49moptions\u001b[39m.\u001b[39;49mget(\u001b[39m\"\u001b[39;49m\u001b[39mmemory_map\u001b[39;49m\u001b[39m\"\u001b[39;49m, \u001b[39mFalse\u001b[39;49;00m),\n\u001b[0;32m   1222\u001b[0m     is_text\u001b[39m=\u001b[39;49mis_text,\n\u001b[0;32m   1223\u001b[0m     errors\u001b[39m=\u001b[39;49m\u001b[39mself\u001b[39;49m\u001b[39m.\u001b[39;49moptions\u001b[39m.\u001b[39;49mget(\u001b[39m\"\u001b[39;49m\u001b[39mencoding_errors\u001b[39;49m\u001b[39m\"\u001b[39;49m, \u001b[39m\"\u001b[39;49m\u001b[39mstrict\u001b[39;49m\u001b[39m\"\u001b[39;49m),\n\u001b[0;32m   1224\u001b[0m     storage_options\u001b[39m=\u001b[39;49m\u001b[39mself\u001b[39;49m\u001b[39m.\u001b[39;49moptions\u001b[39m.\u001b[39;49mget(\u001b[39m\"\u001b[39;49m\u001b[39mstorage_options\u001b[39;49m\u001b[39m\"\u001b[39;49m, \u001b[39mNone\u001b[39;49;00m),\n\u001b[0;32m   1225\u001b[0m )\n\u001b[0;32m   1226\u001b[0m \u001b[39massert\u001b[39;00m \u001b[39mself\u001b[39m\u001b[39m.\u001b[39mhandles \u001b[39mis\u001b[39;00m \u001b[39mnot\u001b[39;00m \u001b[39mNone\u001b[39;00m\n\u001b[0;32m   1227\u001b[0m f \u001b[39m=\u001b[39m \u001b[39mself\u001b[39m\u001b[39m.\u001b[39mhandles\u001b[39m.\u001b[39mhandle\n",
      "File \u001b[1;32m~\\AppData\\Local\\Packages\\PythonSoftwareFoundation.Python.3.9_qbz5n2kfra8p0\\LocalCache\\local-packages\\Python39\\site-packages\\pandas\\io\\common.py:786\u001b[0m, in \u001b[0;36mget_handle\u001b[1;34m(path_or_buf, mode, encoding, compression, memory_map, is_text, errors, storage_options)\u001b[0m\n\u001b[0;32m    781\u001b[0m \u001b[39melif\u001b[39;00m \u001b[39misinstance\u001b[39m(handle, \u001b[39mstr\u001b[39m):\n\u001b[0;32m    782\u001b[0m     \u001b[39m# Check whether the filename is to be opened in binary mode.\u001b[39;00m\n\u001b[0;32m    783\u001b[0m     \u001b[39m# Binary mode does not support 'encoding' and 'newline'.\u001b[39;00m\n\u001b[0;32m    784\u001b[0m     \u001b[39mif\u001b[39;00m ioargs\u001b[39m.\u001b[39mencoding \u001b[39mand\u001b[39;00m \u001b[39m\"\u001b[39m\u001b[39mb\u001b[39m\u001b[39m\"\u001b[39m \u001b[39mnot\u001b[39;00m \u001b[39min\u001b[39;00m ioargs\u001b[39m.\u001b[39mmode:\n\u001b[0;32m    785\u001b[0m         \u001b[39m# Encoding\u001b[39;00m\n\u001b[1;32m--> 786\u001b[0m         handle \u001b[39m=\u001b[39m \u001b[39mopen\u001b[39;49m(\n\u001b[0;32m    787\u001b[0m             handle,\n\u001b[0;32m    788\u001b[0m             ioargs\u001b[39m.\u001b[39;49mmode,\n\u001b[0;32m    789\u001b[0m             encoding\u001b[39m=\u001b[39;49mioargs\u001b[39m.\u001b[39;49mencoding,\n\u001b[0;32m    790\u001b[0m             errors\u001b[39m=\u001b[39;49merrors,\n\u001b[0;32m    791\u001b[0m             newline\u001b[39m=\u001b[39;49m\u001b[39m\"\u001b[39;49m\u001b[39m\"\u001b[39;49m,\n\u001b[0;32m    792\u001b[0m         )\n\u001b[0;32m    793\u001b[0m     \u001b[39melse\u001b[39;00m:\n\u001b[0;32m    794\u001b[0m         \u001b[39m# Binary mode\u001b[39;00m\n\u001b[0;32m    795\u001b[0m         handle \u001b[39m=\u001b[39m \u001b[39mopen\u001b[39m(handle, ioargs\u001b[39m.\u001b[39mmode)\n",
      "\u001b[1;31mFileNotFoundError\u001b[0m: [Errno 2] No such file or directory: 'datasets\\\\GGAL - Cotizaciones historicas.csv'"
     ]
    }
   ],
   "source": [
    "Ret_Pregunta05()"
   ]
  },
  {
   "cell_type": "code",
   "execution_count": 13,
   "metadata": {},
   "outputs": [],
   "source": [
    "def Ret_Pregunta07():\n",
    "    '''\n",
    "    Debes utilizar Pandas para ingestar en un objeto Dataframe el contenido del archivo provisto\n",
    "    \"Fuentes_Consumo_Energia.csv\".\n",
    "    Esta función debe informar cuál de la siguiente lista de países tuvo mayor generacíon de\n",
    "    energía hìdrica (Hydro_Generation_TWh) en el año 2017:\n",
    "        * Argentina\n",
    "        * Germany\n",
    "        * Chile\n",
    "        * Colombia\n",
    "        * Ecuador\n",
    "        * Mexico\n",
    "        * Peru\n",
    "    Debe retornar el valor en un dato de tipo string.\n",
    "    '''\n",
    "    #Tu código aca:\n",
    "    df1 = pd.read_csv('datasets/Fuentes_Consumo_Energia.csv')\n",
    "    year = df1.loc[(df1['Year'] == 2017) & (df1['Entity'].isin(['Argentina','Germany','Chile','Colombia','Ecuador','Mexico','Peru']))]\n",
    "    ascending = year.sort_values(by=['Hydro_Generation_TWh'],ascending=False)\n",
    "    result = str(ascending.iloc[0]['Entity'])\n",
    "    \n",
    "    return result"
   ]
  },
  {
   "cell_type": "code",
   "execution_count": 14,
   "metadata": {},
   "outputs": [
    {
     "data": {
      "text/plain": [
       "'Colombia'"
      ]
     },
     "execution_count": 14,
     "metadata": {},
     "output_type": "execute_result"
    }
   ],
   "source": [
    "Ret_Pregunta07()"
   ]
  },
  {
   "cell_type": "code",
   "execution_count": 15,
   "metadata": {},
   "outputs": [],
   "source": [
    "def Ret_Pregunta08():\n",
    "    '''\n",
    "        Debes utilizar Pandas para ingestar en un objeto Dataframe el contenido del archivo provisto \n",
    "    \"GGAL - Cotizaciones historicas.csv\". Este csv contiene información de cotización de la \n",
    "    acción del Banco Galciia SA.\n",
    "    Esta función debe calcular el promedio tomando los últimos 100 datos de las columnas \"apertura\"\n",
    "    y \"cierre\", en ese orden, y retornar los dos valores en forma de tupla. Usar dos decimales después\n",
    "    del punto y redondear de ser necesario.\n",
    "    '''\n",
    "    #Tu código aca:\n",
    "    df = pd.read_csv('datasets\\GGAL - Cotizaciones historicas.csv')\n",
    "    df = df.tail(100)\n",
    "    df_a_mean = round((df['apertura'].mean()),2)\n",
    "    df_c_mean = round((df['cierre'].mean()),2)\n",
    "\n",
    "    return (df_a_mean,df_c_mean)"
   ]
  },
  {
   "cell_type": "code",
   "execution_count": 16,
   "metadata": {},
   "outputs": [
    {
     "data": {
      "text/plain": [
       "(194.34, 194.33)"
      ]
     },
     "execution_count": 16,
     "metadata": {},
     "output_type": "execute_result"
    }
   ],
   "source": [
    "Ret_Pregunta08()"
   ]
  },
  {
   "cell_type": "code",
   "execution_count": 17,
   "metadata": {},
   "outputs": [],
   "source": [
    "def Ret_Pregunta09():\n",
    "    '''\n",
    "    Debes utilizar Pandas para ingestar en un objeto Dataframe el contenido del archivo provisto\n",
    "    \"Fuentes_Consumo_Energia.csv\".\n",
    "    Esta función debe la mayor cantidad, en TWh, de energía nuclear generada, agrupando según entidad.\n",
    "    Use dos decimales después del punto.\n",
    "    '''\n",
    "    df1 = pd.read_csv('datasets/Fuentes_Consumo_Energia.csv')\n",
    "    \n",
    "    return round((df1.groupby(df1['Entity'])['Nuclear_Generation_TWh'].sum()),2)"
   ]
  },
  {
   "cell_type": "code",
   "execution_count": 18,
   "metadata": {},
   "outputs": [
    {
     "data": {
      "text/plain": [
       "Entity\n",
       "Africa              408.50\n",
       "Algeria               0.00\n",
       "Argentina           272.72\n",
       "Asia Pacific      16043.74\n",
       "Australia             0.00\n",
       "                    ...   \n",
       "Uzbekistan            0.00\n",
       "Venezuela             0.00\n",
       "Vietnam               0.00\n",
       "Western Africa        0.00\n",
       "World             93087.62\n",
       "Name: Nuclear_Generation_TWh, Length: 100, dtype: float64"
      ]
     },
     "execution_count": 18,
     "metadata": {},
     "output_type": "execute_result"
    }
   ],
   "source": [
    "Ret_Pregunta09()"
   ]
  },
  {
   "cell_type": "code",
   "execution_count": 31,
   "metadata": {},
   "outputs": [],
   "source": [
    "def Ret_Pregunta10(lista):\n",
    "    '''\n",
    "    Esta función recibe como parámetro un objeto de la clase Lista() definida en el archivo Lista.py.\n",
    "    Debe recorrer la lista y retornan la cantidad de nodos que posee. Utilizar el método de la clase\n",
    "    Lista llamado getCabecera()\n",
    "    Ejemplo:\n",
    "        lis = Lista()\n",
    "        lista.agregarElemento(1)\n",
    "        lista.agregarElemento(2)\n",
    "        lista.agregarElemento(3)\n",
    "        print(Ret_Pregunta10(lista))\n",
    "            3    -> Debe ser el valor devuelto por la función Ret_Pregunta10() en este ejemplo\n",
    "    '''\n",
    "    #Tu código aca:"
   ]
  }
 ],
 "metadata": {
  "kernelspec": {
   "display_name": "Python 3.9.13 64-bit (microsoft store)",
   "language": "python",
   "name": "python3"
  },
  "language_info": {
   "codemirror_mode": {
    "name": "ipython",
    "version": 3
   },
   "file_extension": ".py",
   "mimetype": "text/x-python",
   "name": "python",
   "nbconvert_exporter": "python",
   "pygments_lexer": "ipython3",
   "version": "3.9.13"
  },
  "orig_nbformat": 4,
  "vscode": {
   "interpreter": {
    "hash": "ce6797e6b52a873d1a784aaad38e393e2d26aa22f7ad7fdba9e6cf2b31e4da34"
   }
  }
 },
 "nbformat": 4,
 "nbformat_minor": 2
}
